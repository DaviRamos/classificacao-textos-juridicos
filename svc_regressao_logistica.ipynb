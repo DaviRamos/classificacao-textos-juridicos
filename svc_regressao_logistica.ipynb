{
  "nbformat": 4,
  "nbformat_minor": 0,
  "metadata": {
    "colab": {
      "name": "svc_regressao_logistica.ipynb",
      "version": "0.3.2",
      "provenance": []
    },
    "kernelspec": {
      "name": "python3",
      "display_name": "Python 3"
    }
  },
  "cells": [
    {
      "metadata": {
        "id": "Ob4Tyv6adZcA",
        "colab_type": "text"
      },
      "cell_type": "markdown",
      "source": [
        "efetua os imports das dependencias"
      ]
    },
    {
      "metadata": {
        "id": "-m6J9gVxazNx",
        "colab_type": "code",
        "colab": {}
      },
      "cell_type": "code",
      "source": [
        "import pandas as pd\n",
        "from sklearn.utils import shuffle\n",
        "from sklearn.model_selection import train_test_split\n",
        "from sklearn.metrics import classification_report\n",
        "from sklearn.feature_extraction.text import CountVectorizer, TfidfVectorizer\n",
        "from sklearn.linear_model import LogisticRegression\n",
        "from sklearn.model_selection import train_test_split \n",
        "from sklearn.preprocessing import Normalizer\n",
        "from sklearn.svm import SVC\n",
        "from sklearn.pipeline import Pipeline"
      ],
      "execution_count": 0,
      "outputs": []
    },
    {
      "metadata": {
        "id": "fL9w8FSMdQ3B",
        "colab_type": "text"
      },
      "cell_type": "markdown",
      "source": [
        "importa os dados do arquivo excel referente ao civil e adiciona a coluna CLASSE com o valor 0, representando o tipo de dado civil"
      ]
    },
    {
      "metadata": {
        "id": "g3weYrX9bSp-",
        "colab_type": "code",
        "colab": {}
      },
      "cell_type": "code",
      "source": [
        "uri_data_civel = 'https://github.com/julianopacheco/classificacao-textos-juridicos/blob/master/arquivos/xls/civel.xlsx?raw=true'\n",
        "dados_civil = pd.read_excel(uri_data_civel)\n",
        "dados_civil[\"CLASSE\"] = 0"
      ],
      "execution_count": 0,
      "outputs": []
    },
    {
      "metadata": {
        "id": "Qh53rItzfsEF",
        "colab_type": "text"
      },
      "cell_type": "markdown",
      "source": [
        "importa os dados do arquivo excel referente ao crime e adiciona a coluna CLASSE com o valor 1, representando o tipo de dado crime"
      ]
    },
    {
      "metadata": {
        "id": "FufYQY95c0Rr",
        "colab_type": "code",
        "colab": {}
      },
      "cell_type": "code",
      "source": [
        "uri_data_crime = 'https://github.com/julianopacheco/classificacao-textos-juridicos/blob/master/arquivos/xls/crime.xlsx?raw=true'\n",
        "dados_crime = pd.read_excel(uri_data_crime)\n",
        "dados_crime[\"CLASSE\"] = 1"
      ],
      "execution_count": 0,
      "outputs": []
    },
    {
      "metadata": {
        "id": "0oXzaHQfia9A",
        "colab_type": "text"
      },
      "cell_type": "markdown",
      "source": [
        "concatena as duas fontes de dados e gera uma nova contendo as duas"
      ]
    },
    {
      "metadata": {
        "id": "CpzjsXUTTGCH",
        "colab_type": "code",
        "colab": {}
      },
      "cell_type": "code",
      "source": [
        "dados_civil_e_crime = pd.concat([dados_civil, dados_crime], axis=0)"
      ],
      "execution_count": 0,
      "outputs": []
    },
    {
      "metadata": {
        "id": "vevLxDSmikQS",
        "colab_type": "text"
      },
      "cell_type": "markdown",
      "source": [
        "como agora a fonte de dados contem as duas listas e necessário embaralhar elas para que o civil e crime nao venha na ordem que foram concatenados\n",
        "\n",
        "isso e feito com o shuffle"
      ]
    },
    {
      "metadata": {
        "id": "brE9j3nRUj9F",
        "colab_type": "code",
        "outputId": "f6a37ca6-5571-42d6-aec1-f4ec5f81573b",
        "colab": {
          "base_uri": "https://localhost:8080/",
          "height": 204
        }
      },
      "cell_type": "code",
      "source": [
        "dados_civil_e_crime = shuffle(dados_civil_e_crime)\n",
        "dados_civil_e_crime.head()"
      ],
      "execution_count": 5,
      "outputs": [
        {
          "output_type": "execute_result",
          "data": {
            "text/html": [
              "<div>\n",
              "<style scoped>\n",
              "    .dataframe tbody tr th:only-of-type {\n",
              "        vertical-align: middle;\n",
              "    }\n",
              "\n",
              "    .dataframe tbody tr th {\n",
              "        vertical-align: top;\n",
              "    }\n",
              "\n",
              "    .dataframe thead th {\n",
              "        text-align: right;\n",
              "    }\n",
              "</style>\n",
              "<table border=\"1\" class=\"dataframe\">\n",
              "  <thead>\n",
              "    <tr style=\"text-align: right;\">\n",
              "      <th></th>\n",
              "      <th>PROCESSO</th>\n",
              "      <th>EMENTA</th>\n",
              "      <th>DATA</th>\n",
              "      <th>CLASSE</th>\n",
              "    </tr>\n",
              "  </thead>\n",
              "  <tbody>\n",
              "    <tr>\n",
              "      <th>5496</th>\n",
              "      <td>70077542264</td>\n",
              "      <td>APELAÇÃO CRIME. RECURSO DA DEFESA. TRÁFICO DE ...</td>\n",
              "      <td>22/08/18</td>\n",
              "      <td>1</td>\n",
              "    </tr>\n",
              "    <tr>\n",
              "      <th>5859</th>\n",
              "      <td>70078555190</td>\n",
              "      <td>HABEAS CORPUS. TRÁFICO DE DROGAS. RECEPTAÇÃO. ...</td>\n",
              "      <td>27/09/18</td>\n",
              "      <td>1</td>\n",
              "    </tr>\n",
              "    <tr>\n",
              "      <th>3309</th>\n",
              "      <td>70075385682</td>\n",
              "      <td>RECURSO EM SENTIDO ESTRITO. CRIMES CONTRA A VI...</td>\n",
              "      <td>13/12/17</td>\n",
              "      <td>1</td>\n",
              "    </tr>\n",
              "    <tr>\n",
              "      <th>1931</th>\n",
              "      <td>70074534686</td>\n",
              "      <td>HABEAS CORPUS. RECEPTAÇÃO DOLOSA (3X). ASSOCIA...</td>\n",
              "      <td>16/08/17</td>\n",
              "      <td>1</td>\n",
              "    </tr>\n",
              "    <tr>\n",
              "      <th>4631</th>\n",
              "      <td>70077381937</td>\n",
              "      <td>APELAÇÃO CÍVEL. NEGÓCIOS JURÍDICOS BANCÁRIOS. ...</td>\n",
              "      <td>23/08/18</td>\n",
              "      <td>0</td>\n",
              "    </tr>\n",
              "  </tbody>\n",
              "</table>\n",
              "</div>"
            ],
            "text/plain": [
              "         PROCESSO                                             EMENTA  \\\n",
              "5496  70077542264  APELAÇÃO CRIME. RECURSO DA DEFESA. TRÁFICO DE ...   \n",
              "5859  70078555190  HABEAS CORPUS. TRÁFICO DE DROGAS. RECEPTAÇÃO. ...   \n",
              "3309  70075385682  RECURSO EM SENTIDO ESTRITO. CRIMES CONTRA A VI...   \n",
              "1931  70074534686  HABEAS CORPUS. RECEPTAÇÃO DOLOSA (3X). ASSOCIA...   \n",
              "4631  70077381937  APELAÇÃO CÍVEL. NEGÓCIOS JURÍDICOS BANCÁRIOS. ...   \n",
              "\n",
              "          DATA  CLASSE  \n",
              "5496  22/08/18       1  \n",
              "5859  27/09/18       1  \n",
              "3309  13/12/17       1  \n",
              "1931  16/08/17       1  \n",
              "4631  23/08/18       0  "
            ]
          },
          "metadata": {
            "tags": []
          },
          "execution_count": 5
        }
      ]
    },
    {
      "metadata": {
        "id": "UoycuQ_mjJyX",
        "colab_type": "text"
      },
      "cell_type": "markdown",
      "source": [
        "verifica a proporcionalidade de cada um dos tipos (civil = 0, crime = 1)"
      ]
    },
    {
      "metadata": {
        "id": "cCUjtlqajC5l",
        "colab_type": "code",
        "outputId": "0366f642-1f1b-4643-e20e-eb76e4bb5a86",
        "colab": {
          "base_uri": "https://localhost:8080/",
          "height": 68
        }
      },
      "cell_type": "code",
      "source": [
        "dados_civil_e_crime.CLASSE.value_counts()"
      ],
      "execution_count": 6,
      "outputs": [
        {
          "output_type": "execute_result",
          "data": {
            "text/plain": [
              "1    6000\n",
              "0    6000\n",
              "Name: CLASSE, dtype: int64"
            ]
          },
          "metadata": {
            "tags": []
          },
          "execution_count": 6
        }
      ]
    },
    {
      "metadata": {
        "id": "9MMZD12C0meh",
        "colab_type": "text"
      },
      "cell_type": "markdown",
      "source": [
        "extrai as ementas dos dados"
      ]
    },
    {
      "metadata": {
        "id": "GL-jFkjVnC5s",
        "colab_type": "code",
        "colab": {}
      },
      "cell_type": "code",
      "source": [
        "ementas = dados_civil_e_crime[\"EMENTA\"]\n"
      ],
      "execution_count": 0,
      "outputs": []
    },
    {
      "metadata": {
        "id": "edx8VqFh0fPl",
        "colab_type": "text"
      },
      "cell_type": "markdown",
      "source": [
        "instancia o CountVectorizer e TfidfVectorizer para vetorizar os textos das ementas"
      ]
    },
    {
      "metadata": {
        "id": "ZjUIYvWjmf4Q",
        "colab_type": "code",
        "colab": {}
      },
      "cell_type": "code",
      "source": [
        "count_vectorizer = CountVectorizer(max_features = 50)\n",
        "tfidf_vetorizar = TfidfVectorizer(max_features = 50)\n",
        "tfidf_vetorizar_use_idf = TfidfVectorizer(max_features = 50, use_idf=False)"
      ],
      "execution_count": 0,
      "outputs": []
    },
    {
      "metadata": {
        "id": "AQ-eWerk0pn8",
        "colab_type": "text"
      },
      "cell_type": "markdown",
      "source": [
        "cria os bag of words através da transformação com os vetores CountVectorizer e TfidfVectorizer"
      ]
    },
    {
      "metadata": {
        "id": "NdwdkZ8_oBhD",
        "colab_type": "code",
        "colab": {}
      },
      "cell_type": "code",
      "source": [
        "bag_of_words_count = count_vectorizer.fit_transform(ementas)\n",
        "bag_of_words_tfidf = tfidf_vetorizar.fit_transform(ementas)\n",
        "bag_of_words_tfidf_use_idf = tfidf_vetorizar_use_idf.fit_transform(ementas)"
      ],
      "execution_count": 0,
      "outputs": []
    },
    {
      "metadata": {
        "id": "ad9BnNz902Y3",
        "colab_type": "text"
      },
      "cell_type": "markdown",
      "source": [
        "gera as variaveis treino, teste, classe_treino, classe_teste através do train_test_split passando um seed de 48\n",
        "\n",
        "estas variaveis serão utilizadas abaixo na aplicação dos algortimos"
      ]
    },
    {
      "metadata": {
        "id": "EKAqBe0lxOn-",
        "colab_type": "code",
        "colab": {}
      },
      "cell_type": "code",
      "source": [
        "\n",
        "treino, teste, classe_treino, classe_teste = train_test_split(bag_of_words_count,\n",
        "                                                              dados_civil_e_crime.CLASSE,\n",
        "                                                              random_state = 48)\n",
        "treino_tfidf, teste_tfidf, classe_treino_tfidf, classe_teste_tfidf = train_test_split(bag_of_words_tfidf,\n",
        "                                                                                      dados_civil_e_crime.CLASSE,\n",
        "                                                                                      random_state = 48)\n",
        "treino_tfidf_use_idf, teste_tfidf_use_idf, classe_treino_tfidf_use_idf, classe_teste_tfidf_use_idf = train_test_split(bag_of_words_tfidf_use_idf,\n",
        "                                                                                                                      dados_civil_e_crime.CLASSE,\n",
        "                                                                                                                      random_state = 48)"
      ],
      "execution_count": 0,
      "outputs": []
    },
    {
      "metadata": {
        "id": "RU8CQsNNq4jz",
        "colab_type": "text"
      },
      "cell_type": "markdown",
      "source": [
        "define metodos abaixo para testar a regressão logistica e o svc"
      ]
    },
    {
      "metadata": {
        "id": "k7RPuCOHpBXB",
        "colab_type": "text"
      },
      "cell_type": "markdown",
      "source": [
        "define o metodo que aplica e escreve os resultados do algortimo LogisticRegression"
      ]
    },
    {
      "metadata": {
        "id": "TpHykGlyP7uC",
        "colab_type": "code",
        "colab": {}
      },
      "cell_type": "code",
      "source": [
        "def execute_LogisticRegression(treino, classe_treino, teste, classe_teste):\n",
        "  regressao_logistica = LogisticRegression(solver='lbfgs', max_iter=10000)\n",
        "  regressao_logistica.fit(treino, classe_treino)\n",
        "  #acuracia = regressao_logistica.score(teste, classe_teste)\n",
        "  #print(f'LogisticRegression acuracia: {acuracia}')\n",
        "  predicted = regressao_logistica.predict(teste)\n",
        "  print(classification_report(classe_teste, predicted))"
      ],
      "execution_count": 0,
      "outputs": []
    },
    {
      "metadata": {
        "id": "rpyx8uc61dUa",
        "colab_type": "text"
      },
      "cell_type": "markdown",
      "source": [
        "define um método que cria um pipeline para normalizar os dados e instanciar o algortimo SVC\n",
        "\n",
        "efetua o treino, aplica o metodo que irá prever o teste e escreve o relatório da aplicação"
      ]
    },
    {
      "metadata": {
        "id": "-FqJZJN-kcek",
        "colab_type": "code",
        "colab": {}
      },
      "cell_type": "code",
      "source": [
        "def execute_SVC(treino, classe_treino, teste, classe_teste):\n",
        "  pipeline = Pipeline([\n",
        "    ('normalizer', Normalizer()),\n",
        "    ('svc', SVC(gamma='auto'))\n",
        "  ])\n",
        "\n",
        "  pipeline.fit(treino, classe_treino)\n",
        "  predicted = pipeline.predict(teste)\n",
        "  print(classification_report(classe_teste, predicted))"
      ],
      "execution_count": 0,
      "outputs": []
    },
    {
      "metadata": {
        "id": "-LTofrYk0T14",
        "colab_type": "text"
      },
      "cell_type": "markdown",
      "source": [
        "executa o algortimo LogisticRegression passando os dados referentes ao CountVectorizer"
      ]
    },
    {
      "metadata": {
        "id": "YAsQihnLxGia",
        "colab_type": "code",
        "outputId": "c71b95e8-97a1-4203-d35d-900e64fad878",
        "colab": {
          "base_uri": "https://localhost:8080/",
          "height": 170
        }
      },
      "cell_type": "code",
      "source": [
        "execute_LogisticRegression(treino, classe_treino, teste, classe_teste)"
      ],
      "execution_count": 13,
      "outputs": [
        {
          "output_type": "stream",
          "text": [
            "              precision    recall  f1-score   support\n",
            "\n",
            "           0       0.96      0.97      0.97      1509\n",
            "           1       0.97      0.96      0.97      1491\n",
            "\n",
            "   micro avg       0.97      0.97      0.97      3000\n",
            "   macro avg       0.97      0.97      0.97      3000\n",
            "weighted avg       0.97      0.97      0.97      3000\n",
            "\n"
          ],
          "name": "stdout"
        }
      ]
    },
    {
      "metadata": {
        "id": "LQpZrU0Y0sep",
        "colab_type": "text"
      },
      "cell_type": "markdown",
      "source": [
        "executa o algortimo LogisticRegression passando os dados referentes ao TfidfVectorizer"
      ]
    },
    {
      "metadata": {
        "id": "i3W1yuRqQc6D",
        "colab_type": "code",
        "outputId": "57511d54-7754-47c3-e491-1a1e13aa71a9",
        "colab": {
          "base_uri": "https://localhost:8080/",
          "height": 170
        }
      },
      "cell_type": "code",
      "source": [
        "execute_LogisticRegression(treino_tfidf, classe_treino_tfidf, teste_tfidf, classe_teste_tfidf)"
      ],
      "execution_count": 14,
      "outputs": [
        {
          "output_type": "stream",
          "text": [
            "              precision    recall  f1-score   support\n",
            "\n",
            "           0       0.95      0.98      0.97      1509\n",
            "           1       0.98      0.95      0.96      1491\n",
            "\n",
            "   micro avg       0.97      0.97      0.97      3000\n",
            "   macro avg       0.97      0.97      0.97      3000\n",
            "weighted avg       0.97      0.97      0.97      3000\n",
            "\n"
          ],
          "name": "stdout"
        }
      ]
    },
    {
      "metadata": {
        "id": "l3WJd0lO2Kvo",
        "colab_type": "text"
      },
      "cell_type": "markdown",
      "source": [
        "executa o algortimo SVC passando os dados referentes ao TfidfVectorizer(use_idf)"
      ]
    },
    {
      "metadata": {
        "id": "zzwUO4Wa2Qu4",
        "colab_type": "code",
        "outputId": "d40a7474-891e-4c73-a0c1-c54dff9e99a4",
        "colab": {
          "base_uri": "https://localhost:8080/",
          "height": 170
        }
      },
      "cell_type": "code",
      "source": [
        "execute_LogisticRegression(treino_tfidf_use_idf, classe_treino_tfidf_use_idf, teste_tfidf_use_idf, classe_teste_tfidf_use_idf)"
      ],
      "execution_count": 15,
      "outputs": [
        {
          "output_type": "stream",
          "text": [
            "              precision    recall  f1-score   support\n",
            "\n",
            "           0       0.94      0.98      0.96      1509\n",
            "           1       0.98      0.94      0.96      1491\n",
            "\n",
            "   micro avg       0.96      0.96      0.96      3000\n",
            "   macro avg       0.96      0.96      0.96      3000\n",
            "weighted avg       0.96      0.96      0.96      3000\n",
            "\n"
          ],
          "name": "stdout"
        }
      ]
    },
    {
      "metadata": {
        "id": "VLMpLL8Uqtyl",
        "colab_type": "text"
      },
      "cell_type": "markdown",
      "source": [
        "executa o algortimo SVC passando os dados referentes ao CountVectorizer"
      ]
    },
    {
      "metadata": {
        "id": "J-quw1Zup2FS",
        "colab_type": "code",
        "outputId": "06195f4c-bb27-4526-9347-8c001864a508",
        "colab": {
          "base_uri": "https://localhost:8080/",
          "height": 170
        }
      },
      "cell_type": "code",
      "source": [
        "execute_SVC(treino, classe_treino, teste, classe_teste)"
      ],
      "execution_count": 16,
      "outputs": [
        {
          "output_type": "stream",
          "text": [
            "              precision    recall  f1-score   support\n",
            "\n",
            "           0       0.90      0.99      0.94      1509\n",
            "           1       0.99      0.88      0.93      1491\n",
            "\n",
            "   micro avg       0.94      0.94      0.94      3000\n",
            "   macro avg       0.94      0.94      0.94      3000\n",
            "weighted avg       0.94      0.94      0.94      3000\n",
            "\n"
          ],
          "name": "stdout"
        }
      ]
    },
    {
      "metadata": {
        "id": "RJnA-B5B0yBl",
        "colab_type": "text"
      },
      "cell_type": "markdown",
      "source": [
        "executa o algortimo SVC passando os dados referentes ao TfidfVectorizer"
      ]
    },
    {
      "metadata": {
        "id": "t8U-1HBW0nyO",
        "colab_type": "code",
        "outputId": "04f44931-35ea-45aa-bcf7-aae4645fbefe",
        "colab": {
          "base_uri": "https://localhost:8080/",
          "height": 170
        }
      },
      "cell_type": "code",
      "source": [
        "execute_SVC(treino_tfidf, classe_treino_tfidf, teste_tfidf, classe_teste_tfidf)"
      ],
      "execution_count": 17,
      "outputs": [
        {
          "output_type": "stream",
          "text": [
            "              precision    recall  f1-score   support\n",
            "\n",
            "           0       0.92      0.99      0.95      1509\n",
            "           1       0.99      0.91      0.95      1491\n",
            "\n",
            "   micro avg       0.95      0.95      0.95      3000\n",
            "   macro avg       0.95      0.95      0.95      3000\n",
            "weighted avg       0.95      0.95      0.95      3000\n",
            "\n"
          ],
          "name": "stdout"
        }
      ]
    },
    {
      "metadata": {
        "id": "ONreaWi62dqn",
        "colab_type": "text"
      },
      "cell_type": "markdown",
      "source": [
        "executa o algortimo SVC passando os dados referentes ao TfidfVectorizer(use_idf)"
      ]
    },
    {
      "metadata": {
        "id": "hu1xH0f72gEK",
        "colab_type": "code",
        "outputId": "31452ba4-365b-407c-f078-cd214d018b1d",
        "colab": {
          "base_uri": "https://localhost:8080/",
          "height": 170
        }
      },
      "cell_type": "code",
      "source": [
        "execute_SVC(treino_tfidf_use_idf, classe_treino_tfidf_use_idf, teste_tfidf_use_idf, classe_teste_tfidf_use_idf)"
      ],
      "execution_count": 18,
      "outputs": [
        {
          "output_type": "stream",
          "text": [
            "              precision    recall  f1-score   support\n",
            "\n",
            "           0       0.90      0.99      0.94      1509\n",
            "           1       0.99      0.88      0.93      1491\n",
            "\n",
            "   micro avg       0.94      0.94      0.94      3000\n",
            "   macro avg       0.94      0.94      0.94      3000\n",
            "weighted avg       0.94      0.94      0.94      3000\n",
            "\n"
          ],
          "name": "stdout"
        }
      ]
    }
  ]
}