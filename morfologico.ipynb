{
  "nbformat": 4,
  "nbformat_minor": 0,
  "metadata": {
    "colab": {
      "name": "morfologico.ipynb",
      "version": "0.3.2",
      "provenance": []
    },
    "kernelspec": {
      "name": "python3",
      "display_name": "Python 3"
    }
  },
  "cells": [
    {
      "metadata": {
        "id": "Ob4Tyv6adZcA",
        "colab_type": "text"
      },
      "cell_type": "markdown",
      "source": [
        "efetua os imports das dependencias"
      ]
    },
    {
      "metadata": {
        "id": "-m6J9gVxazNx",
        "colab_type": "code",
        "colab": {}
      },
      "cell_type": "code",
      "source": [
        "import pandas as pd\n",
        "from sklearn.utils import shuffle\n",
        "from sklearn.model_selection import train_test_split\n",
        "from sklearn.metrics import classification_report\n",
        "from sklearn.feature_extraction.text import CountVectorizer, TfidfVectorizer\n",
        "from sklearn.linear_model import LogisticRegression\n",
        "from sklearn.model_selection import train_test_split \n",
        "from sklearn.preprocessing import Normalizer\n",
        "from sklearn.svm import SVC\n",
        "from sklearn.pipeline import Pipeline"
      ],
      "execution_count": 0,
      "outputs": []
    },
    {
      "metadata": {
        "id": "fL9w8FSMdQ3B",
        "colab_type": "text"
      },
      "cell_type": "markdown",
      "source": [
        "importa os dados do arquivo excel referente ao civil e adiciona a coluna CLASSE com o valor 0, representando o tipo de dado civil"
      ]
    },
    {
      "metadata": {
        "id": "g3weYrX9bSp-",
        "colab_type": "code",
        "colab": {}
      },
      "cell_type": "code",
      "source": [
        "uri_data_civel = 'https://github.com/julianopacheco/classificacao-textos-juridicos/blob/master/arquivos/xls/civel.xlsx?raw=true'\n",
        "dados_civil = pd.read_excel(uri_data_civel)\n",
        "dados_civil[\"CLASSE\"] = 0"
      ],
      "execution_count": 0,
      "outputs": []
    },
    {
      "metadata": {
        "id": "Qh53rItzfsEF",
        "colab_type": "text"
      },
      "cell_type": "markdown",
      "source": [
        "importa os dados do arquivo excel referente ao crime e adiciona a coluna CLASSE com o valor 1, representando o tipo de dado crime"
      ]
    },
    {
      "metadata": {
        "id": "FufYQY95c0Rr",
        "colab_type": "code",
        "colab": {}
      },
      "cell_type": "code",
      "source": [
        "uri_data_crime = 'https://github.com/julianopacheco/classificacao-textos-juridicos/blob/master/arquivos/xls/crime.xlsx?raw=true'\n",
        "dados_crime = pd.read_excel(uri_data_crime)\n",
        "dados_crime[\"CLASSE\"] = 1"
      ],
      "execution_count": 0,
      "outputs": []
    },
    {
      "metadata": {
        "id": "0oXzaHQfia9A",
        "colab_type": "text"
      },
      "cell_type": "markdown",
      "source": [
        "concatena as duas fontes de dados e gera uma nova contendo as duas"
      ]
    },
    {
      "metadata": {
        "id": "CpzjsXUTTGCH",
        "colab_type": "code",
        "colab": {}
      },
      "cell_type": "code",
      "source": [
        "dados_civil_e_crime = pd.concat([dados_civil, dados_crime], axis=0)"
      ],
      "execution_count": 0,
      "outputs": []
    },
    {
      "metadata": {
        "id": "vevLxDSmikQS",
        "colab_type": "text"
      },
      "cell_type": "markdown",
      "source": [
        "como agora a fonte de dados contem as duas listas e necessário embaralhar elas para que o civil e crime nao venha na ordem que foram concatenados\n",
        "\n",
        "isso e feito com o shuffle"
      ]
    },
    {
      "metadata": {
        "id": "brE9j3nRUj9F",
        "colab_type": "code",
        "outputId": "5986995f-b273-4b50-fdc0-4a44d6a7b0bf",
        "colab": {
          "base_uri": "https://localhost:8080/",
          "height": 204
        }
      },
      "cell_type": "code",
      "source": [
        "dados_civil_e_crime = shuffle(dados_civil_e_crime)\n",
        "dados_civil_e_crime.head()"
      ],
      "execution_count": 0,
      "outputs": [
        {
          "output_type": "execute_result",
          "data": {
            "text/html": [
              "<div>\n",
              "<style scoped>\n",
              "    .dataframe tbody tr th:only-of-type {\n",
              "        vertical-align: middle;\n",
              "    }\n",
              "\n",
              "    .dataframe tbody tr th {\n",
              "        vertical-align: top;\n",
              "    }\n",
              "\n",
              "    .dataframe thead th {\n",
              "        text-align: right;\n",
              "    }\n",
              "</style>\n",
              "<table border=\"1\" class=\"dataframe\">\n",
              "  <thead>\n",
              "    <tr style=\"text-align: right;\">\n",
              "      <th></th>\n",
              "      <th>PROCESSO</th>\n",
              "      <th>EMENTA</th>\n",
              "      <th>DATA</th>\n",
              "      <th>CLASSE</th>\n",
              "    </tr>\n",
              "  </thead>\n",
              "  <tbody>\n",
              "    <tr>\n",
              "      <th>3815</th>\n",
              "      <td>70077666493</td>\n",
              "      <td>APELAÇÃO CÍVEL. AÇÕES REVISIONAL E DE BUSCA E ...</td>\n",
              "      <td>28/06/18</td>\n",
              "      <td>0</td>\n",
              "    </tr>\n",
              "    <tr>\n",
              "      <th>1217</th>\n",
              "      <td>70075943191</td>\n",
              "      <td>APELAÇÃO CÍVEL. RESPONSABILIDADE CIVIL. RESPON...</td>\n",
              "      <td>28/02/18</td>\n",
              "      <td>0</td>\n",
              "    </tr>\n",
              "    <tr>\n",
              "      <th>172</th>\n",
              "      <td>70072029234</td>\n",
              "      <td>HABEAS CORPUS. CRIMES DE ROUBO DUPLAMENTE MAJO...</td>\n",
              "      <td>22/02/17</td>\n",
              "      <td>1</td>\n",
              "    </tr>\n",
              "    <tr>\n",
              "      <th>305</th>\n",
              "      <td>70075807909</td>\n",
              "      <td>APELAÇÃO CÍVEL. ACIDENTE DE TRABALHO. FORMA DE...</td>\n",
              "      <td>13/12/17</td>\n",
              "      <td>0</td>\n",
              "    </tr>\n",
              "    <tr>\n",
              "      <th>5256</th>\n",
              "      <td>70078829223</td>\n",
              "      <td>APELAÇÃO. MANDATO. AÇÃO INDENIZATÓRIA. PRELIMI...</td>\n",
              "      <td>13/09/18</td>\n",
              "      <td>0</td>\n",
              "    </tr>\n",
              "  </tbody>\n",
              "</table>\n",
              "</div>"
            ],
            "text/plain": [
              "         PROCESSO                                             EMENTA  \\\n",
              "3815  70077666493  APELAÇÃO CÍVEL. AÇÕES REVISIONAL E DE BUSCA E ...   \n",
              "1217  70075943191  APELAÇÃO CÍVEL. RESPONSABILIDADE CIVIL. RESPON...   \n",
              "172   70072029234  HABEAS CORPUS. CRIMES DE ROUBO DUPLAMENTE MAJO...   \n",
              "305   70075807909  APELAÇÃO CÍVEL. ACIDENTE DE TRABALHO. FORMA DE...   \n",
              "5256  70078829223  APELAÇÃO. MANDATO. AÇÃO INDENIZATÓRIA. PRELIMI...   \n",
              "\n",
              "          DATA  CLASSE  \n",
              "3815  28/06/18       0  \n",
              "1217  28/02/18       0  \n",
              "172   22/02/17       1  \n",
              "305   13/12/17       0  \n",
              "5256  13/09/18       0  "
            ]
          },
          "metadata": {
            "tags": []
          },
          "execution_count": 5
        }
      ]
    },
    {
      "metadata": {
        "id": "UoycuQ_mjJyX",
        "colab_type": "text"
      },
      "cell_type": "markdown",
      "source": [
        "verifica a proporcionalidade de cada um dos tipos (civil = 0, crime = 1)"
      ]
    },
    {
      "metadata": {
        "id": "cCUjtlqajC5l",
        "colab_type": "code",
        "outputId": "a7d8a623-8b7f-4da9-9764-d72d109e1147",
        "colab": {
          "base_uri": "https://localhost:8080/",
          "height": 68
        }
      },
      "cell_type": "code",
      "source": [
        "dados_civil_e_crime.CLASSE.value_counts()"
      ],
      "execution_count": 0,
      "outputs": [
        {
          "output_type": "execute_result",
          "data": {
            "text/plain": [
              "1    6000\n",
              "0    6000\n",
              "Name: CLASSE, dtype: int64"
            ]
          },
          "metadata": {
            "tags": []
          },
          "execution_count": 6
        }
      ]
    },
    {
      "metadata": {
        "id": "9MMZD12C0meh",
        "colab_type": "text"
      },
      "cell_type": "markdown",
      "source": [
        "extrai as ementas dos dados"
      ]
    },
    {
      "metadata": {
        "id": "GL-jFkjVnC5s",
        "colab_type": "code",
        "colab": {}
      },
      "cell_type": "code",
      "source": [
        "ementas = dados_civil_e_crime[\"EMENTA\"]\n"
      ],
      "execution_count": 0,
      "outputs": []
    },
    {
      "metadata": {
        "id": "edx8VqFh0fPl",
        "colab_type": "text"
      },
      "cell_type": "markdown",
      "source": [
        "instancia o CountVectorizer e TfidfVectorizer para vetorizar os textos das ementas"
      ]
    },
    {
      "metadata": {
        "id": "ZjUIYvWjmf4Q",
        "colab_type": "code",
        "colab": {}
      },
      "cell_type": "code",
      "source": [
        "count_vectorizer = CountVectorizer(max_features = 50)\n",
        "tfidf_vetorizar = TfidfVectorizer(max_features = 50)\n",
        "tfidf_vetorizar_use_idf = TfidfVectorizer(max_features = 50, use_idf=False)"
      ],
      "execution_count": 0,
      "outputs": []
    },
    {
      "metadata": {
        "id": "AQ-eWerk0pn8",
        "colab_type": "text"
      },
      "cell_type": "markdown",
      "source": [
        "cria os bag of words através da transformação com os vetores CountVectorizer e TfidfVectorizer"
      ]
    },
    {
      "metadata": {
        "id": "NdwdkZ8_oBhD",
        "colab_type": "code",
        "colab": {}
      },
      "cell_type": "code",
      "source": [
        "bag_of_words_count = count_vectorizer.fit_transform(ementas)\n",
        "bag_of_words_tfidf = tfidf_vetorizar.fit_transform(ementas)\n",
        "bag_of_words_tfidf_use_idf = tfidf_vetorizar_use_idf.fit_transform(ementas)"
      ],
      "execution_count": 0,
      "outputs": []
    },
    {
      "metadata": {
        "id": "ad9BnNz902Y3",
        "colab_type": "text"
      },
      "cell_type": "markdown",
      "source": [
        "gera as variaveis treino, teste, classe_treino, classe_teste através do train_test_split passando um seed de 48\n",
        "\n",
        "estas variaveis serão utilizadas abaixo na aplicação dos algortimos"
      ]
    },
    {
      "metadata": {
        "id": "EKAqBe0lxOn-",
        "colab_type": "code",
        "colab": {}
      },
      "cell_type": "code",
      "source": [
        "\n",
        "treino, teste, classe_treino, classe_teste = train_test_split(bag_of_words_count,\n",
        "                                                              dados_civil_e_crime.CLASSE,\n",
        "                                                              random_state = 48)\n",
        "treino_tfidf, teste_tfidf, classe_treino_tfidf, classe_teste_tfidf = train_test_split(bag_of_words_tfidf,\n",
        "                                                                                      dados_civil_e_crime.CLASSE,\n",
        "                                                                                      random_state = 48)\n",
        "treino_tfidf_use_idf, teste_tfidf_use_idf, classe_treino_tfidf_use_idf, classe_teste_tfidf_use_idf = train_test_split(bag_of_words_tfidf_use_idf,\n",
        "                                                                                                                      dados_civil_e_crime.CLASSE,\n",
        "                                                                                                                      random_state = 48)"
      ],
      "execution_count": 0,
      "outputs": []
    },
    {
      "metadata": {
        "id": "RU8CQsNNq4jz",
        "colab_type": "text"
      },
      "cell_type": "markdown",
      "source": [
        "define metodos abaixo para testar a regressão logistica e o svc"
      ]
    },
    {
      "metadata": {
        "id": "k7RPuCOHpBXB",
        "colab_type": "text"
      },
      "cell_type": "markdown",
      "source": [
        "define o metodo que aplica e escreve os resultados do algortimo LogisticRegression"
      ]
    },
    {
      "metadata": {
        "id": "TpHykGlyP7uC",
        "colab_type": "code",
        "colab": {}
      },
      "cell_type": "code",
      "source": [
        "def execute_LogisticRegression(treino, classe_treino, teste, classe_teste):\n",
        "  regressao_logistica = LogisticRegression(solver='lbfgs', max_iter=10000)\n",
        "  regressao_logistica.fit(treino, classe_treino)\n",
        "  #acuracia = regressao_logistica.score(teste, classe_teste)\n",
        "  #print(f'LogisticRegression acuracia: {acuracia}')\n",
        "  predicted = regressao_logistica.predict(teste)\n",
        "  print(classification_report(classe_teste, predicted))"
      ],
      "execution_count": 0,
      "outputs": []
    },
    {
      "metadata": {
        "id": "rpyx8uc61dUa",
        "colab_type": "text"
      },
      "cell_type": "markdown",
      "source": [
        "define um método que cria um pipeline para normalizar os dados e instanciar o algortimo SVC\n",
        "\n",
        "efetua o treino, aplica o metodo que irá prever o teste e escreve o relatório da aplicação"
      ]
    },
    {
      "metadata": {
        "id": "-FqJZJN-kcek",
        "colab_type": "code",
        "colab": {}
      },
      "cell_type": "code",
      "source": [
        "def execute_SVC(treino, classe_treino, teste, classe_teste):\n",
        "  pipeline = Pipeline([\n",
        "    ('normalizer', Normalizer()),\n",
        "    ('svc', SVC(gamma='auto'))\n",
        "  ])\n",
        "\n",
        "  pipeline.fit(treino, classe_treino)\n",
        "  predicted = pipeline.predict(teste)\n",
        "  print(classification_report(classe_teste, predicted))"
      ],
      "execution_count": 0,
      "outputs": []
    },
    {
      "metadata": {
        "id": "-LTofrYk0T14",
        "colab_type": "text"
      },
      "cell_type": "markdown",
      "source": [
        "executa o algortimo LogisticRegression passando os dados referentes ao CountVectorizer"
      ]
    },
    {
      "metadata": {
        "id": "YAsQihnLxGia",
        "colab_type": "code",
        "outputId": "9fc12b63-144c-49af-c890-9b74987a1c34",
        "colab": {
          "base_uri": "https://localhost:8080/",
          "height": 170
        }
      },
      "cell_type": "code",
      "source": [
        "execute_LogisticRegression(treino, classe_treino, teste, classe_teste)"
      ],
      "execution_count": 0,
      "outputs": [
        {
          "output_type": "stream",
          "text": [
            "              precision    recall  f1-score   support\n",
            "\n",
            "           0       0.97      0.98      0.97      1499\n",
            "           1       0.98      0.97      0.97      1501\n",
            "\n",
            "   micro avg       0.97      0.97      0.97      3000\n",
            "   macro avg       0.97      0.97      0.97      3000\n",
            "weighted avg       0.97      0.97      0.97      3000\n",
            "\n"
          ],
          "name": "stdout"
        }
      ]
    },
    {
      "metadata": {
        "id": "LQpZrU0Y0sep",
        "colab_type": "text"
      },
      "cell_type": "markdown",
      "source": [
        "executa o algortimo LogisticRegression passando os dados referentes ao TfidfVectorizer"
      ]
    },
    {
      "metadata": {
        "id": "i3W1yuRqQc6D",
        "colab_type": "code",
        "outputId": "6e273cdd-1b95-456a-c800-ec88463d6394",
        "colab": {
          "base_uri": "https://localhost:8080/",
          "height": 170
        }
      },
      "cell_type": "code",
      "source": [
        "execute_LogisticRegression(treino_tfidf, classe_treino_tfidf, teste_tfidf, classe_teste_tfidf)"
      ],
      "execution_count": 0,
      "outputs": [
        {
          "output_type": "stream",
          "text": [
            "              precision    recall  f1-score   support\n",
            "\n",
            "           0       0.95      0.98      0.96      1499\n",
            "           1       0.98      0.95      0.96      1501\n",
            "\n",
            "   micro avg       0.96      0.96      0.96      3000\n",
            "   macro avg       0.96      0.96      0.96      3000\n",
            "weighted avg       0.96      0.96      0.96      3000\n",
            "\n"
          ],
          "name": "stdout"
        }
      ]
    },
    {
      "metadata": {
        "id": "l3WJd0lO2Kvo",
        "colab_type": "text"
      },
      "cell_type": "markdown",
      "source": [
        "executa o algortimo SVC passando os dados referentes ao TfidfVectorizer(use_idf)"
      ]
    },
    {
      "metadata": {
        "id": "zzwUO4Wa2Qu4",
        "colab_type": "code",
        "outputId": "e587151f-da6a-4bed-fecc-f5d82e074cc6",
        "colab": {
          "base_uri": "https://localhost:8080/",
          "height": 170
        }
      },
      "cell_type": "code",
      "source": [
        "execute_LogisticRegression(treino_tfidf_use_idf, classe_treino_tfidf_use_idf, teste_tfidf_use_idf, classe_teste_tfidf_use_idf)"
      ],
      "execution_count": 0,
      "outputs": [
        {
          "output_type": "stream",
          "text": [
            "              precision    recall  f1-score   support\n",
            "\n",
            "           0       0.94      0.98      0.96      1499\n",
            "           1       0.98      0.94      0.96      1501\n",
            "\n",
            "   micro avg       0.96      0.96      0.96      3000\n",
            "   macro avg       0.96      0.96      0.96      3000\n",
            "weighted avg       0.96      0.96      0.96      3000\n",
            "\n"
          ],
          "name": "stdout"
        }
      ]
    },
    {
      "metadata": {
        "id": "VLMpLL8Uqtyl",
        "colab_type": "text"
      },
      "cell_type": "markdown",
      "source": [
        "executa o algortimo SVC passando os dados referentes ao CountVectorizer"
      ]
    },
    {
      "metadata": {
        "id": "J-quw1Zup2FS",
        "colab_type": "code",
        "outputId": "3b4a1d57-9cb6-408b-bbc5-021d58d1c1d3",
        "colab": {
          "base_uri": "https://localhost:8080/",
          "height": 170
        }
      },
      "cell_type": "code",
      "source": [
        "execute_SVC(treino, classe_treino, teste, classe_teste)"
      ],
      "execution_count": 0,
      "outputs": [
        {
          "output_type": "stream",
          "text": [
            "              precision    recall  f1-score   support\n",
            "\n",
            "           0       0.89      0.98      0.94      1499\n",
            "           1       0.98      0.88      0.93      1501\n",
            "\n",
            "   micro avg       0.93      0.93      0.93      3000\n",
            "   macro avg       0.94      0.93      0.93      3000\n",
            "weighted avg       0.94      0.93      0.93      3000\n",
            "\n"
          ],
          "name": "stdout"
        }
      ]
    },
    {
      "metadata": {
        "id": "RJnA-B5B0yBl",
        "colab_type": "text"
      },
      "cell_type": "markdown",
      "source": [
        "executa o algortimo SVC passando os dados referentes ao TfidfVectorizer"
      ]
    },
    {
      "metadata": {
        "id": "t8U-1HBW0nyO",
        "colab_type": "code",
        "outputId": "b1dc956d-3023-438b-9b7c-820d581777c5",
        "colab": {
          "base_uri": "https://localhost:8080/",
          "height": 170
        }
      },
      "cell_type": "code",
      "source": [
        "execute_SVC(treino_tfidf, classe_treino_tfidf, teste_tfidf, classe_teste_tfidf)"
      ],
      "execution_count": 0,
      "outputs": [
        {
          "output_type": "stream",
          "text": [
            "              precision    recall  f1-score   support\n",
            "\n",
            "           0       0.91      0.98      0.95      1499\n",
            "           1       0.98      0.90      0.94      1501\n",
            "\n",
            "   micro avg       0.94      0.94      0.94      3000\n",
            "   macro avg       0.95      0.94      0.94      3000\n",
            "weighted avg       0.95      0.94      0.94      3000\n",
            "\n"
          ],
          "name": "stdout"
        }
      ]
    },
    {
      "metadata": {
        "id": "ONreaWi62dqn",
        "colab_type": "text"
      },
      "cell_type": "markdown",
      "source": [
        "executa o algortimo SVC passando os dados referentes ao TfidfVectorizer(use_idf)"
      ]
    },
    {
      "metadata": {
        "id": "hu1xH0f72gEK",
        "colab_type": "code",
        "outputId": "54c54e09-6ad3-4e08-f33c-a97918ef4033",
        "colab": {
          "base_uri": "https://localhost:8080/",
          "height": 170
        }
      },
      "cell_type": "code",
      "source": [
        "execute_SVC(treino_tfidf_use_idf, classe_treino_tfidf_use_idf, teste_tfidf_use_idf, classe_teste_tfidf_use_idf)"
      ],
      "execution_count": 0,
      "outputs": [
        {
          "output_type": "stream",
          "text": [
            "              precision    recall  f1-score   support\n",
            "\n",
            "           0       0.89      0.98      0.94      1499\n",
            "           1       0.98      0.88      0.93      1501\n",
            "\n",
            "   micro avg       0.93      0.93      0.93      3000\n",
            "   macro avg       0.94      0.93      0.93      3000\n",
            "weighted avg       0.94      0.93      0.93      3000\n",
            "\n"
          ],
          "name": "stdout"
        }
      ]
    }
  ]
}