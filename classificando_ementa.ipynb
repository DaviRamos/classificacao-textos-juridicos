{
  "nbformat": 4,
  "nbformat_minor": 0,
  "metadata": {
    "colab": {
      "name": "classificando_ementa.ipynb",
      "provenance": []
    },
    "kernelspec": {
      "name": "python3",
      "display_name": "Python 3"
    },
    "accelerator": "GPU"
  },
  "cells": [
    {
      "cell_type": "markdown",
      "metadata": {
        "id": "Ob4Tyv6adZcA",
        "colab_type": "text"
      },
      "source": [
        "efetua os imports das dependencias"
      ]
    },
    {
      "cell_type": "code",
      "metadata": {
        "id": "-m6J9gVxazNx",
        "colab_type": "code",
        "colab": {}
      },
      "source": [
        "import pandas as pd\n",
        "from sklearn.utils import shuffle\n",
        "from sklearn.feature_extraction.text import CountVectorizer, TfidfVectorizer, TfidfTransformer\n",
        "from sklearn.model_selection import train_test_split\n",
        "from sklearn.naive_bayes import MultinomialNB"
      ],
      "execution_count": 0,
      "outputs": []
    },
    {
      "cell_type": "markdown",
      "metadata": {
        "id": "fL9w8FSMdQ3B",
        "colab_type": "text"
      },
      "source": [
        " importa os dados do arquivo excel referente ao civil e adiciona a coluna CLASSE com o valor 0, representando o tipo de dado civil"
      ]
    },
    {
      "cell_type": "code",
      "metadata": {
        "id": "g3weYrX9bSp-",
        "colab_type": "code",
        "colab": {}
      },
      "source": [
        "uri_data_civel = 'https://github.com/julianopacheco/classificacao-textos-juridicos/blob/master/arquivos/xls/civel_cem_registros.xlsx?raw=true'\n",
        "dados_civil = pd.read_excel(uri_data_civel)\n",
        "dados_civil[\"CLASSE\"] = 0"
      ],
      "execution_count": 0,
      "outputs": []
    },
    {
      "cell_type": "markdown",
      "metadata": {
        "id": "Qh53rItzfsEF",
        "colab_type": "text"
      },
      "source": [
        "importa os dados do arquivo excel referente ao crime e adiciona a coluna CLASSE com o valor 1, representando o tipo de dado crime"
      ]
    },
    {
      "cell_type": "code",
      "metadata": {
        "id": "FufYQY95c0Rr",
        "colab_type": "code",
        "colab": {}
      },
      "source": [
        "uri_data_crime = 'https://github.com/julianopacheco/classificacao-textos-juridicos/blob/master/arquivos/xls/crime_cem_registros.xlsx?raw=true'\n",
        "dados_crime = pd.read_excel(uri_data_crime)\n",
        "dados_crime[\"CLASSE\"] = 1"
      ],
      "execution_count": 0,
      "outputs": []
    },
    {
      "cell_type": "markdown",
      "metadata": {
        "id": "0oXzaHQfia9A",
        "colab_type": "text"
      },
      "source": [
        "concatena as duas fontes de dados e gera uma nova contendo as duas"
      ]
    },
    {
      "cell_type": "code",
      "metadata": {
        "id": "CpzjsXUTTGCH",
        "colab_type": "code",
        "colab": {}
      },
      "source": [
        "dados_civil_e_crime = pd.concat([dados_civil, dados_crime], axis=0)"
      ],
      "execution_count": 0,
      "outputs": []
    },
    {
      "cell_type": "markdown",
      "metadata": {
        "id": "vevLxDSmikQS",
        "colab_type": "text"
      },
      "source": [
        "como agora a fonte de dados contem as duas listas e necessário embaralhar elas para que o civil e crime nao venha na ordem que foram concatenados\n",
        "\n",
        "isso e feito com o shuffle"
      ]
    },
    {
      "cell_type": "code",
      "metadata": {
        "id": "brE9j3nRUj9F",
        "colab_type": "code",
        "outputId": "a41ee463-b7f7-496d-b061-7cb3b8390edb",
        "colab": {
          "base_uri": "https://localhost:8080/",
          "height": 204
        }
      },
      "source": [
        "dados_civil_e_crime = shuffle(dados_civil_e_crime)\n",
        "dados_civil_e_crime.head()"
      ],
      "execution_count": 7,
      "outputs": [
        {
          "output_type": "execute_result",
          "data": {
            "text/html": [
              "<div>\n",
              "<style scoped>\n",
              "    .dataframe tbody tr th:only-of-type {\n",
              "        vertical-align: middle;\n",
              "    }\n",
              "\n",
              "    .dataframe tbody tr th {\n",
              "        vertical-align: top;\n",
              "    }\n",
              "\n",
              "    .dataframe thead th {\n",
              "        text-align: right;\n",
              "    }\n",
              "</style>\n",
              "<table border=\"1\" class=\"dataframe\">\n",
              "  <thead>\n",
              "    <tr style=\"text-align: right;\">\n",
              "      <th></th>\n",
              "      <th>PROCESSO</th>\n",
              "      <th>EMENTA</th>\n",
              "      <th>DATA</th>\n",
              "      <th>CLASSE</th>\n",
              "    </tr>\n",
              "  </thead>\n",
              "  <tbody>\n",
              "    <tr>\n",
              "      <th>73</th>\n",
              "      <td>70074782251</td>\n",
              "      <td>APELAÇÕES CÍVEIS. EMBARGOS À EXECUÇÃO. POLÍTIC...</td>\n",
              "      <td>05/12/17</td>\n",
              "      <td>0</td>\n",
              "    </tr>\n",
              "    <tr>\n",
              "      <th>38</th>\n",
              "      <td>70071895643</td>\n",
              "      <td>APELAÇÕES CÍVEIS. REEXAME NECESSÁRIO. REAJUSTE...</td>\n",
              "      <td>05/12/17</td>\n",
              "      <td>0</td>\n",
              "    </tr>\n",
              "    <tr>\n",
              "      <th>21</th>\n",
              "      <td>70074337460</td>\n",
              "      <td>APELAÇÃO CÍVEL. AÇÃO DE COBRANÇA. SEGURO DE VI...</td>\n",
              "      <td>01/12/17</td>\n",
              "      <td>0</td>\n",
              "    </tr>\n",
              "    <tr>\n",
              "      <th>40</th>\n",
              "      <td>70068928951</td>\n",
              "      <td>APELAÇÃO CÍVEL. REEXAME NECESSÁRIO. PENSIONSIT...</td>\n",
              "      <td>05/12/17</td>\n",
              "      <td>0</td>\n",
              "    </tr>\n",
              "    <tr>\n",
              "      <th>77</th>\n",
              "      <td>70074567777</td>\n",
              "      <td>AGRAVO DE INSTRUMENTO. DIREITO PÚBLICO. EXECUÇ...</td>\n",
              "      <td>05/12/17</td>\n",
              "      <td>0</td>\n",
              "    </tr>\n",
              "  </tbody>\n",
              "</table>\n",
              "</div>"
            ],
            "text/plain": [
              "       PROCESSO  ... CLASSE\n",
              "73  70074782251  ...      0\n",
              "38  70071895643  ...      0\n",
              "21  70074337460  ...      0\n",
              "40  70068928951  ...      0\n",
              "77  70074567777  ...      0\n",
              "\n",
              "[5 rows x 4 columns]"
            ]
          },
          "metadata": {
            "tags": []
          },
          "execution_count": 7
        }
      ]
    },
    {
      "cell_type": "markdown",
      "metadata": {
        "id": "UoycuQ_mjJyX",
        "colab_type": "text"
      },
      "source": [
        "verifica a proporcionalidade de cada um dos tipos (civil = 0, crime = 1)"
      ]
    },
    {
      "cell_type": "code",
      "metadata": {
        "id": "cCUjtlqajC5l",
        "colab_type": "code",
        "outputId": "2f01d3a1-8774-4429-d624-3469860e5e83",
        "colab": {
          "base_uri": "https://localhost:8080/",
          "height": 68
        }
      },
      "source": [
        "dados_civil_e_crime.CLASSE.value_counts()"
      ],
      "execution_count": 8,
      "outputs": [
        {
          "output_type": "execute_result",
          "data": {
            "text/plain": [
              "1    100\n",
              "0    100\n",
              "Name: CLASSE, dtype: int64"
            ]
          },
          "metadata": {
            "tags": []
          },
          "execution_count": 8
        }
      ]
    },
    {
      "cell_type": "markdown",
      "metadata": {
        "id": "9MMZD12C0meh",
        "colab_type": "text"
      },
      "source": [
        "extrai as ementas dos dados"
      ]
    },
    {
      "cell_type": "code",
      "metadata": {
        "id": "GL-jFkjVnC5s",
        "colab_type": "code",
        "colab": {}
      },
      "source": [
        "ementas = dados_civil_e_crime[\"EMENTA\"]"
      ],
      "execution_count": 0,
      "outputs": []
    },
    {
      "cell_type": "markdown",
      "metadata": {
        "id": "nH7GlZ9UE-a3",
        "colab_type": "text"
      },
      "source": [
        "Tranforma os textos em vetores"
      ]
    },
    {
      "cell_type": "code",
      "metadata": {
        "id": "9hKoZdehW1sG",
        "colab_type": "code",
        "colab": {}
      },
      "source": [
        "X_train, X_test, y_train, y_test = train_test_split(ementas, dados_civil_e_crime.CLASSE, test_size=0.2, random_state = 7)\n",
        "\n",
        "count_vect = CountVectorizer()\n",
        "X_train_counts = count_vect.fit_transform(X_train)\n",
        "tfidf_transformer = TfidfTransformer()\n",
        "X_train_tfidf = tfidf_transformer.fit_transform(X_train_counts)\n"
      ],
      "execution_count": 0,
      "outputs": []
    },
    {
      "cell_type": "markdown",
      "metadata": {
        "id": "pV_Ypg9lFLsQ",
        "colab_type": "text"
      },
      "source": [
        "Treina o algortimo MultinomialNB, mais conhecimento como Naive Bayes"
      ]
    },
    {
      "cell_type": "code",
      "metadata": {
        "id": "3qlfV0cm_r-l",
        "colab_type": "code",
        "colab": {}
      },
      "source": [
        "clf = MultinomialNB().fit(X_train_tfidf, y_train)\n"
      ],
      "execution_count": 0,
      "outputs": []
    },
    {
      "cell_type": "markdown",
      "metadata": {
        "id": "Rs277UEaFWdn",
        "colab_type": "text"
      },
      "source": [
        "Gera um texto simples, um texto Crime e um texto Civil para executar as classificações destes"
      ]
    },
    {
      "cell_type": "code",
      "metadata": {
        "id": "Qo7yaOOOEC9L",
        "colab_type": "code",
        "colab": {}
      },
      "source": [
        "ementaSimples = \"drogas\"\n",
        "ementa_simples_vetorizada = count_vect.transform([ementaSimples])"
      ],
      "execution_count": 0,
      "outputs": []
    },
    {
      "cell_type": "code",
      "metadata": {
        "id": "LYZ2lnTkFwZw",
        "colab_type": "code",
        "colab": {}
      },
      "source": [
        "ementaCrimeLinha370 = \"APELAÇÃO CRIMINAL. CRIME CONTRA A DIGNIDADE SEXUAL. ATENTADOS VIOLENTOS AO PUDOR CONTRA VÍTIMAS INFANTES. TOQUES LASCIVOS. PRELIMINARES DE NULIDADE DA SENTENÇA E DOS DEPOIMENTOS DAS OFENDIDAS. REJEIÇÃO. INSUFICIÊNCIA PROBATÓRIA. ABSOLVIÇÃO. 1) Preliminares. 1.1) Nulidade da sentença. Inexistência de afronta ao sistema acusatório e aos princípios da correlação e da imparcialidade. Julgador que não se vê vinculado pelo pedido absolutório do órgão acusatório em sede de memoriais, possuindo autonomia de, na órbita do livre convencimento motivado, decidir pela condenação do réu, desde que devidamente comprovadas materialidade e autoria delitivas. Inteligência do art. 385 do CPP. Precedentes das Cortes Superiores e deste órgão fracionário. 1.2) Nulidade dos depoimentos das vítimas. Ação penal que tramitou inicialmente perante a Vara da Infância e Juventude, sobrevindo alteração de competência, com remessa a Juízo Criminal. Alegação de nulidade dos atos processuais realizados sob jurisdição da Vara da Infância e da Juventude que já foi examinada, por esta Câmara, no HC 70041652223, pelo STJ e pelo STF, restando assentada a validade a partir de decisão monocrática no Recurso Extraordinário n.º 830.851, mantida em sede de Agravo Regimental, com notícia trânsito em julgado. Tomada dos depoimentos que seguiu à risca as formalidades legais, com respeito à ampla defesa e ao contraditório, estando presentes o acusado e a Defensoria Pública. Preliminares rejeitadas. 2) Mérito. Imputação de toques lascivos com o dedo e por cima da roupa na genitália de duas vítimas, ambas infantes à época e sobrinhas do acusado. Inexistência de prova concreta nos autos acerca da ocorrência dos fatos. Palavra das vítimas insegura, contraditória, permeada por incertezas, dando, inclusive, em alguns trechos, azo a suspeitas de falsa acusação. Dúvida instaurada que, aliada à presunção de inocência que milita em favor do réu, torna imperiosa a absolvição do apelante, com base no art. 386, inciso VII, do CPP.  PRELIMINARES REJEITADAS. APELO DEFENSIVO PROVIDO. UNÂNIME.\"\n",
        "ementa_crime_vetorizada = count_vect.transform([ementaCrimeLinha370])"
      ],
      "execution_count": 0,
      "outputs": []
    },
    {
      "cell_type": "code",
      "metadata": {
        "id": "3kA1AFmBGFc-",
        "colab_type": "code",
        "colab": {}
      },
      "source": [
        "ementaCivilLinha370 = \"APELAÇÃO CÍVEL. RESPONSABILIDADE CIVIL. ALAGAMENTO DE RESIDÊNCIA EM ZONA URBANA. PRELIMINAR REJEITADA. INSUFICIÊNCIA DO SISTEMA DE ESCOAMENTO PLUVIAL. AUSENTE PROVA DE QUE A DESPEITO DOS TEMPORAIS QUE ATINGIRAM A REGIÃO NO PERÍODO O MUNICÍPIO MANTEVE DE FORMA ADEQUADA O SISTEMA DE DRENAGEM URBANA, A FIM DE EVITAR O EPISÓDIO. OMISSÃO ESTATAL CONFIGURADA. NÃO COMPROVADA HIPÓTESE DE EXCLUDENTE DE RESPONSABILIDADE POR FORÇA MAIOR. DANOS COMPROVADOS. CONSECTÁRIOS LEGAIS PARCIALMENTE REFORMADOS. Preliminar de ilegitimidade passiva afastada. Causa de pedir que não está fundada em anormalidades no fluxo de águas (efluentes da bacia hidrográfica do Rio dos Sinos) pertencentes ao Estado do RS, e sim na falha de manutenção e conservação do sistema de escoamento pluvial da Prefeitura de Esteio. Mérito. Hipótese de omissão específica do poder público, acarretando sua responsabilização objetiva. Precedentes. Caso concreto relativo a alagamento de casas em zonas urbanas de alguns bairros do município de Esteio/RS - em julho de 2015. Anormalidade dos fatores climáticos que resultaram em enchente/inundação, por precipitações intensas no período, que não são capazes de romper o nexo de causalidade, não caracterizando, no caso, excludente por força maior - ressalvado o entendimento pessoal do Relator -, visto que uma adequada manutenção do sistema de escoamento pluvial evitaria os danos. Negligência da municipalidade na preservação do sistema de drenagem pluvial, a despeito de inúmeras solicitações e pedidos de providências dos cidadãos, há mais de década. Danos materiais e morais configurados. 3.1. A condenação por danos materiais deve persistir, pois a documentação acostada aos autos é hábil a comprovar o dano e o valor necessário para reparar o freezer dos autores. 3.2. Os transtornos vivenciados em virtude da inundação de um lar são evidentes e presumíveis, em especial tratando-se de pessoas idosas, dispensando maiores comprovações; e, quanto ao valor da indenização por danos morais (R$ 10.000,00 para cada autor), não comporta redução, pois observa parâmetros de razoabilidade e proporcionalidade, bem como a extensão dos danos e patamares já concedidos por esta Câmara diante de situações análogas._x000D_4. Consectários legais. De acordo com decisões recentemente proferidas pelo STF no âmbito de reclamações ajuizadas por diversos entes de direito público, a inconstitucionalidade da TR como índice de correção monetária dos débitos judiciais das Fazendas Públicas é restrita ao período que medeia entre a inscrição da dívida em precatório e a data de seu efetivo pagamento. Assim, impõe-se observar, na íntegra, os parâmetros de atualização estabelecidos pelo artigo 1º-F da Lei nº 9.494/97 (com a redação que lhe foi dada pela Lei nº 11.960/09) para a atualização da condenação no período que precede à fase de tramitação da RPV ou do precatório. Parcelas vencidas que, então, devem ser atualizadas pelo IGP-DI até mar./2006 e, a partir de abr./2006, pela variação do INPC. Contudo, a contar de 30/06/2009 (data da publicação da Lei nº 11.960/2009), as prestações atrasadas da condenação passarão a ser monetariamente atualizadas pela TR, a qual deverá ser substituída pela aplicação do IPCA apenas quando da inscrição do débito em precatório ou RPV. Os juros de mora, por seu turno, incidem à taxa de 1% ao mês até o advento da Lei nº 11.960/09, a partir de quando a mora passa a ser compensada mediante observância dos índices oficiais de remuneração básica e juros aplicáveis às cadernetas de poupança. Caso concreto em que os consectários legais merecem ser readequados às diretrizes jurisprudenciais da Câmara. AFASTADA, APELAÇÃO PARCIALMENTE PROVIDA.\"\n",
        "ementa_civil_vetorizada = count_vect.transform([ementaCivilLinha370])"
      ],
      "execution_count": 0,
      "outputs": []
    },
    {
      "cell_type": "markdown",
      "metadata": {
        "id": "AHTHe3IsFhtg",
        "colab_type": "text"
      },
      "source": [
        "Executa a classificação"
      ]
    },
    {
      "cell_type": "markdown",
      "metadata": {
        "id": "hlj2zUY_G6jI",
        "colab_type": "text"
      },
      "source": [
        "A saida dependera das palavras contidas"
      ]
    },
    {
      "cell_type": "code",
      "metadata": {
        "id": "_Tc51YjUEe8e",
        "colab_type": "code",
        "outputId": "a5444e84-43ff-4e34-b1f5-b87ea9fdec5d",
        "colab": {
          "base_uri": "https://localhost:8080/",
          "height": 34
        }
      },
      "source": [
        "print(clf.predict(ementa_simples_vetorizada))"
      ],
      "execution_count": 15,
      "outputs": [
        {
          "output_type": "stream",
          "text": [
            "[1]\n"
          ],
          "name": "stdout"
        }
      ]
    },
    {
      "cell_type": "markdown",
      "metadata": {
        "id": "Q9Jv0fkJGv9w",
        "colab_type": "text"
      },
      "source": [
        "Saida deverá ser [1] valor que representa uma ementa do crime"
      ]
    },
    {
      "cell_type": "code",
      "metadata": {
        "id": "D6SWbtsCF6b-",
        "colab_type": "code",
        "outputId": "8967894e-559e-4963-c691-f0dbc26467d4",
        "colab": {
          "base_uri": "https://localhost:8080/",
          "height": 34
        }
      },
      "source": [
        "print(clf.predict(ementa_crime_vetorizada))"
      ],
      "execution_count": 16,
      "outputs": [
        {
          "output_type": "stream",
          "text": [
            "[1]\n"
          ],
          "name": "stdout"
        }
      ]
    },
    {
      "cell_type": "markdown",
      "metadata": {
        "id": "kQrXt7IZG2zX",
        "colab_type": "text"
      },
      "source": [
        "Saida deverá ser [0] valor que representa uma ementa do civil"
      ]
    },
    {
      "cell_type": "code",
      "metadata": {
        "id": "4Sv9IohsF6me",
        "colab_type": "code",
        "outputId": "ea35f794-f069-417e-878f-412c8cc8f49f",
        "colab": {
          "base_uri": "https://localhost:8080/",
          "height": 34
        }
      },
      "source": [
        "print(clf.predict(ementa_civil_vetorizada))"
      ],
      "execution_count": 17,
      "outputs": [
        {
          "output_type": "stream",
          "text": [
            "[0]\n"
          ],
          "name": "stdout"
        }
      ]
    }
  ]
}